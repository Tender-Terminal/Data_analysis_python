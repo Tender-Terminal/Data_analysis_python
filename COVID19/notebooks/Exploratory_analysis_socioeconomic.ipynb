{
 "cells": [
  {
   "cell_type": "markdown",
   "metadata": {},
   "source": [
    "# Imports"
   ]
  },
  {
   "cell_type": "code",
   "execution_count": 1,
   "metadata": {},
   "outputs": [],
   "source": [
    "import sys\n",
    "import os\n",
    "\n",
    "import matplotlib as mpl"
   ]
  },
  {
   "cell_type": "code",
   "execution_count": 2,
   "metadata": {},
   "outputs": [],
   "source": [
    "project_path = os.path.abspath(os.path.join('..'))\n",
    "\n",
    "if project_path not in sys.path:\n",
    "    sys.path.append(f'{project_path}/src/visualizations/')\n",
    "    \n",
    "from covid_data_viz import CovidDataViz    "
   ]
  },
  {
   "cell_type": "markdown",
   "metadata": {},
   "source": [
    "# Setup"
   ]
  },
  {
   "cell_type": "code",
   "execution_count": 3,
   "metadata": {},
   "outputs": [],
   "source": [
    "mpl.rcParams['figure.figsize'] = (9, 5)"
   ]
  },
  {
   "cell_type": "markdown",
   "metadata": {},
   "source": [
    "# Goal\n",
    "My goal is to visualize various aspect of the `COVID-19` pandemic."
   ]
  },
  {
   "cell_type": "markdown",
   "metadata": {},
   "source": [
    "# Data sources\n",
    "\n",
    "In this notebook I use data from the following sources:\n",
    "- https://github.com/CSSEGISandData/COVID-19 - JHU CSSE COVID-19 Data.\n",
    "- [GDP per capita PPP](https://data.worldbank.org/indicator/NY.GDP.PCAP.PP.CD) - The World Bank.\n",
    "- [Population](https://data.worldbank.org/indicator/SP.POP.TOTL) - The World Bank.\n",
    "- [Rural population](https://data.worldbank.org/indicator/SP.RUR.TOTL.ZS) - The World Bank.\n",
    "- [Life expectancy at birth](https://data.worldbank.org/indicator/SP.DYN.LE00.IN) - The World Bank.\n",
    "- [Current healthcare expenditure](https://data.worldbank.org/indicator/SH.XPD.CHEX.GD.ZS) - The World Bank.\n",
    "- https://datahub.io/JohnSnowLabs/country-and-continent-codes-list - country codes and continents."
   ]
  },
  {
   "cell_type": "markdown",
   "metadata": {},
   "source": [
    "# Data loading"
   ]
  },
  {
   "cell_type": "code",
   "execution_count": 4,
   "metadata": {},
   "outputs": [],
   "source": [
    "cdv = CovidDataViz()"
   ]
  },
  {
   "cell_type": "markdown",
   "metadata": {},
   "source": [
    "`Yemen` is an outlier and is excluded from the analysis."
   ]
  },
  {
   "cell_type": "markdown",
   "metadata": {},
   "source": [
    "# Socioeconomic data.\n",
    "\n",
    "To enhance the analysis I used data avaible freely at from the `World Bank`. In this part of the analysis I use the last available value for each country. This is a reasonble thing to do given that these specific do not undergo wild fluctuations from year to year."
   ]
  },
  {
   "cell_type": "markdown",
   "metadata": {},
   "source": [
    "# Correlation matrix\n",
    "\n",
    "Note that `Rural population %` and `Cases per mln` have a correlation of `-0.46%`. Possible reasons could be the virus has a harder time spreading in scarcely populated countries. Note also that `GDP Healthcare` and `Dead per mln` have a positive correlation of `0.38`. This could be considered an expected result given that excluding `Asia` most of the countries around the world do not have experience in dealing with such matters."
   ]
  },
  {
   "cell_type": "code",
   "execution_count": 5,
   "metadata": {},
   "outputs": [
    {
     "data": {
      "text/html": [
       "<style  type=\"text/css\" >\n",
       "    #T_f9a10098_0732_11eb_a39c_8b9d6530a6fdrow0_col0 {\n",
       "            background-color:  #b40426;\n",
       "            color:  #f1f1f1;\n",
       "        }    #T_f9a10098_0732_11eb_a39c_8b9d6530a6fdrow0_col1 {\n",
       "            background-color:  #f6bea4;\n",
       "            color:  #000000;\n",
       "        }    #T_f9a10098_0732_11eb_a39c_8b9d6530a6fdrow0_col2 {\n",
       "            background-color:  #89acfd;\n",
       "            color:  #000000;\n",
       "        }    #T_f9a10098_0732_11eb_a39c_8b9d6530a6fdrow0_col3 {\n",
       "            background-color:  #f4c6af;\n",
       "            color:  #000000;\n",
       "        }    #T_f9a10098_0732_11eb_a39c_8b9d6530a6fdrow0_col4 {\n",
       "            background-color:  #f2cab5;\n",
       "            color:  #000000;\n",
       "        }    #T_f9a10098_0732_11eb_a39c_8b9d6530a6fdrow0_col5 {\n",
       "            background-color:  #5470de;\n",
       "            color:  #000000;\n",
       "        }    #T_f9a10098_0732_11eb_a39c_8b9d6530a6fdrow0_col6 {\n",
       "            background-color:  #c0282f;\n",
       "            color:  #f1f1f1;\n",
       "        }    #T_f9a10098_0732_11eb_a39c_8b9d6530a6fdrow0_col7 {\n",
       "            background-color:  #5b7ae5;\n",
       "            color:  #000000;\n",
       "        }    #T_f9a10098_0732_11eb_a39c_8b9d6530a6fdrow1_col0 {\n",
       "            background-color:  #f7b79b;\n",
       "            color:  #000000;\n",
       "        }    #T_f9a10098_0732_11eb_a39c_8b9d6530a6fdrow1_col1 {\n",
       "            background-color:  #b40426;\n",
       "            color:  #f1f1f1;\n",
       "        }    #T_f9a10098_0732_11eb_a39c_8b9d6530a6fdrow1_col2 {\n",
       "            background-color:  #d9dce1;\n",
       "            color:  #000000;\n",
       "        }    #T_f9a10098_0732_11eb_a39c_8b9d6530a6fdrow1_col3 {\n",
       "            background-color:  #e3d9d3;\n",
       "            color:  #000000;\n",
       "        }    #T_f9a10098_0732_11eb_a39c_8b9d6530a6fdrow1_col4 {\n",
       "            background-color:  #f4c5ad;\n",
       "            color:  #000000;\n",
       "        }    #T_f9a10098_0732_11eb_a39c_8b9d6530a6fdrow1_col5 {\n",
       "            background-color:  #f7b194;\n",
       "            color:  #000000;\n",
       "        }    #T_f9a10098_0732_11eb_a39c_8b9d6530a6fdrow1_col6 {\n",
       "            background-color:  #e6d7cf;\n",
       "            color:  #000000;\n",
       "        }    #T_f9a10098_0732_11eb_a39c_8b9d6530a6fdrow1_col7 {\n",
       "            background-color:  #6e90f2;\n",
       "            color:  #000000;\n",
       "        }    #T_f9a10098_0732_11eb_a39c_8b9d6530a6fdrow2_col0 {\n",
       "            background-color:  #b6cefa;\n",
       "            color:  #000000;\n",
       "        }    #T_f9a10098_0732_11eb_a39c_8b9d6530a6fdrow2_col1 {\n",
       "            background-color:  #e8d6cc;\n",
       "            color:  #000000;\n",
       "        }    #T_f9a10098_0732_11eb_a39c_8b9d6530a6fdrow2_col2 {\n",
       "            background-color:  #b40426;\n",
       "            color:  #f1f1f1;\n",
       "        }    #T_f9a10098_0732_11eb_a39c_8b9d6530a6fdrow2_col3 {\n",
       "            background-color:  #edd1c2;\n",
       "            color:  #000000;\n",
       "        }    #T_f9a10098_0732_11eb_a39c_8b9d6530a6fdrow2_col4 {\n",
       "            background-color:  #f7b194;\n",
       "            color:  #000000;\n",
       "        }    #T_f9a10098_0732_11eb_a39c_8b9d6530a6fdrow2_col5 {\n",
       "            background-color:  #cfdaea;\n",
       "            color:  #000000;\n",
       "        }    #T_f9a10098_0732_11eb_a39c_8b9d6530a6fdrow2_col6 {\n",
       "            background-color:  #85a8fc;\n",
       "            color:  #000000;\n",
       "        }    #T_f9a10098_0732_11eb_a39c_8b9d6530a6fdrow2_col7 {\n",
       "            background-color:  #8fb1fe;\n",
       "            color:  #000000;\n",
       "        }    #T_f9a10098_0732_11eb_a39c_8b9d6530a6fdrow3_col0 {\n",
       "            background-color:  #eed0c0;\n",
       "            color:  #000000;\n",
       "        }    #T_f9a10098_0732_11eb_a39c_8b9d6530a6fdrow3_col1 {\n",
       "            background-color:  #cbd8ee;\n",
       "            color:  #000000;\n",
       "        }    #T_f9a10098_0732_11eb_a39c_8b9d6530a6fdrow3_col2 {\n",
       "            background-color:  #c9d7f0;\n",
       "            color:  #000000;\n",
       "        }    #T_f9a10098_0732_11eb_a39c_8b9d6530a6fdrow3_col3 {\n",
       "            background-color:  #b40426;\n",
       "            color:  #f1f1f1;\n",
       "        }    #T_f9a10098_0732_11eb_a39c_8b9d6530a6fdrow3_col4 {\n",
       "            background-color:  #ec7f63;\n",
       "            color:  #000000;\n",
       "        }    #T_f9a10098_0732_11eb_a39c_8b9d6530a6fdrow3_col5 {\n",
       "            background-color:  #8db0fe;\n",
       "            color:  #000000;\n",
       "        }    #T_f9a10098_0732_11eb_a39c_8b9d6530a6fdrow3_col6 {\n",
       "            background-color:  #e0dbd8;\n",
       "            color:  #000000;\n",
       "        }    #T_f9a10098_0732_11eb_a39c_8b9d6530a6fdrow3_col7 {\n",
       "            background-color:  #3c4ec2;\n",
       "            color:  #f1f1f1;\n",
       "        }    #T_f9a10098_0732_11eb_a39c_8b9d6530a6fdrow4_col0 {\n",
       "            background-color:  #ead4c8;\n",
       "            color:  #000000;\n",
       "        }    #T_f9a10098_0732_11eb_a39c_8b9d6530a6fdrow4_col1 {\n",
       "            background-color:  #ead5c9;\n",
       "            color:  #000000;\n",
       "        }    #T_f9a10098_0732_11eb_a39c_8b9d6530a6fdrow4_col2 {\n",
       "            background-color:  #eed0c0;\n",
       "            color:  #000000;\n",
       "        }    #T_f9a10098_0732_11eb_a39c_8b9d6530a6fdrow4_col3 {\n",
       "            background-color:  #ec7f63;\n",
       "            color:  #000000;\n",
       "        }    #T_f9a10098_0732_11eb_a39c_8b9d6530a6fdrow4_col4 {\n",
       "            background-color:  #b40426;\n",
       "            color:  #f1f1f1;\n",
       "        }    #T_f9a10098_0732_11eb_a39c_8b9d6530a6fdrow4_col5 {\n",
       "            background-color:  #bad0f8;\n",
       "            color:  #000000;\n",
       "        }    #T_f9a10098_0732_11eb_a39c_8b9d6530a6fdrow4_col6 {\n",
       "            background-color:  #d2dbe8;\n",
       "            color:  #000000;\n",
       "        }    #T_f9a10098_0732_11eb_a39c_8b9d6530a6fdrow4_col7 {\n",
       "            background-color:  #3b4cc0;\n",
       "            color:  #f1f1f1;\n",
       "        }    #T_f9a10098_0732_11eb_a39c_8b9d6530a6fdrow5_col0 {\n",
       "            background-color:  #90b2fe;\n",
       "            color:  #000000;\n",
       "        }    #T_f9a10098_0732_11eb_a39c_8b9d6530a6fdrow5_col1 {\n",
       "            background-color:  #f6a283;\n",
       "            color:  #000000;\n",
       "        }    #T_f9a10098_0732_11eb_a39c_8b9d6530a6fdrow5_col2 {\n",
       "            background-color:  #d4dbe6;\n",
       "            color:  #000000;\n",
       "        }    #T_f9a10098_0732_11eb_a39c_8b9d6530a6fdrow5_col3 {\n",
       "            background-color:  #d1dae9;\n",
       "            color:  #000000;\n",
       "        }    #T_f9a10098_0732_11eb_a39c_8b9d6530a6fdrow5_col4 {\n",
       "            background-color:  #ead5c9;\n",
       "            color:  #000000;\n",
       "        }    #T_f9a10098_0732_11eb_a39c_8b9d6530a6fdrow5_col5 {\n",
       "            background-color:  #b40426;\n",
       "            color:  #f1f1f1;\n",
       "        }    #T_f9a10098_0732_11eb_a39c_8b9d6530a6fdrow5_col6 {\n",
       "            background-color:  #6a8bef;\n",
       "            color:  #000000;\n",
       "        }    #T_f9a10098_0732_11eb_a39c_8b9d6530a6fdrow5_col7 {\n",
       "            background-color:  #a3c2fe;\n",
       "            color:  #000000;\n",
       "        }    #T_f9a10098_0732_11eb_a39c_8b9d6530a6fdrow6_col0 {\n",
       "            background-color:  #c0282f;\n",
       "            color:  #f1f1f1;\n",
       "        }    #T_f9a10098_0732_11eb_a39c_8b9d6530a6fdrow6_col1 {\n",
       "            background-color:  #e4d9d2;\n",
       "            color:  #000000;\n",
       "        }    #T_f9a10098_0732_11eb_a39c_8b9d6530a6fdrow6_col2 {\n",
       "            background-color:  #5f7fe8;\n",
       "            color:  #000000;\n",
       "        }    #T_f9a10098_0732_11eb_a39c_8b9d6530a6fdrow6_col3 {\n",
       "            background-color:  #efcfbf;\n",
       "            color:  #000000;\n",
       "        }    #T_f9a10098_0732_11eb_a39c_8b9d6530a6fdrow6_col4 {\n",
       "            background-color:  #e7d7ce;\n",
       "            color:  #000000;\n",
       "        }    #T_f9a10098_0732_11eb_a39c_8b9d6530a6fdrow6_col5 {\n",
       "            background-color:  #3b4cc0;\n",
       "            color:  #f1f1f1;\n",
       "        }    #T_f9a10098_0732_11eb_a39c_8b9d6530a6fdrow6_col6 {\n",
       "            background-color:  #b40426;\n",
       "            color:  #f1f1f1;\n",
       "        }    #T_f9a10098_0732_11eb_a39c_8b9d6530a6fdrow6_col7 {\n",
       "            background-color:  #6a8bef;\n",
       "            color:  #000000;\n",
       "        }    #T_f9a10098_0732_11eb_a39c_8b9d6530a6fdrow7_col0 {\n",
       "            background-color:  #3b4cc0;\n",
       "            color:  #f1f1f1;\n",
       "        }    #T_f9a10098_0732_11eb_a39c_8b9d6530a6fdrow7_col1 {\n",
       "            background-color:  #3b4cc0;\n",
       "            color:  #f1f1f1;\n",
       "        }    #T_f9a10098_0732_11eb_a39c_8b9d6530a6fdrow7_col2 {\n",
       "            background-color:  #3b4cc0;\n",
       "            color:  #f1f1f1;\n",
       "        }    #T_f9a10098_0732_11eb_a39c_8b9d6530a6fdrow7_col3 {\n",
       "            background-color:  #3b4cc0;\n",
       "            color:  #f1f1f1;\n",
       "        }    #T_f9a10098_0732_11eb_a39c_8b9d6530a6fdrow7_col4 {\n",
       "            background-color:  #3b4cc0;\n",
       "            color:  #f1f1f1;\n",
       "        }    #T_f9a10098_0732_11eb_a39c_8b9d6530a6fdrow7_col5 {\n",
       "            background-color:  #4961d2;\n",
       "            color:  #f1f1f1;\n",
       "        }    #T_f9a10098_0732_11eb_a39c_8b9d6530a6fdrow7_col6 {\n",
       "            background-color:  #3b4cc0;\n",
       "            color:  #f1f1f1;\n",
       "        }    #T_f9a10098_0732_11eb_a39c_8b9d6530a6fdrow7_col7 {\n",
       "            background-color:  #b40426;\n",
       "            color:  #f1f1f1;\n",
       "        }</style><table id=\"T_f9a10098_0732_11eb_a39c_8b9d6530a6fd\" style=\"font-size: 13px\"><thead>    <tr>        <th class=\"blank level0\" ></th>        <th class=\"col_heading level0 col0\" >Cases per mln</th>        <th class=\"col_heading level0 col1\" >Dead per mln</th>        <th class=\"col_heading level0 col2\" >GDP Healthcare %</th>        <th class=\"col_heading level0 col3\" >GDP per capita</th>        <th class=\"col_heading level0 col4\" >Life expectancy</th>        <th class=\"col_heading level0 col5\" >Mortality %</th>        <th class=\"col_heading level0 col6\" >Recovered per mln</th>        <th class=\"col_heading level0 col7\" >Rural population %</th>    </tr></thead><tbody>\n",
       "                <tr>\n",
       "                        <th id=\"T_f9a10098_0732_11eb_a39c_8b9d6530a6fdlevel0_row0\" class=\"row_heading level0 row0\" >Cases per mln</th>\n",
       "                        <td id=\"T_f9a10098_0732_11eb_a39c_8b9d6530a6fdrow0_col0\" class=\"data row0 col0\" >1.00</td>\n",
       "                        <td id=\"T_f9a10098_0732_11eb_a39c_8b9d6530a6fdrow0_col1\" class=\"data row0 col1\" >0.52</td>\n",
       "                        <td id=\"T_f9a10098_0732_11eb_a39c_8b9d6530a6fdrow0_col2\" class=\"data row0 col2\" >0.08</td>\n",
       "                        <td id=\"T_f9a10098_0732_11eb_a39c_8b9d6530a6fdrow0_col3\" class=\"data row0 col3\" >0.38</td>\n",
       "                        <td id=\"T_f9a10098_0732_11eb_a39c_8b9d6530a6fdrow0_col4\" class=\"data row0 col4\" >0.36</td>\n",
       "                        <td id=\"T_f9a10098_0732_11eb_a39c_8b9d6530a6fdrow0_col5\" class=\"data row0 col5\" >-0.08</td>\n",
       "                        <td id=\"T_f9a10098_0732_11eb_a39c_8b9d6530a6fdrow0_col6\" class=\"data row0 col6\" >0.95</td>\n",
       "                        <td id=\"T_f9a10098_0732_11eb_a39c_8b9d6530a6fdrow0_col7\" class=\"data row0 col7\" >-0.46</td>\n",
       "            </tr>\n",
       "            <tr>\n",
       "                        <th id=\"T_f9a10098_0732_11eb_a39c_8b9d6530a6fdlevel0_row1\" class=\"row_heading level0 row1\" >Dead per mln</th>\n",
       "                        <td id=\"T_f9a10098_0732_11eb_a39c_8b9d6530a6fdrow1_col0\" class=\"data row1 col0\" >0.52</td>\n",
       "                        <td id=\"T_f9a10098_0732_11eb_a39c_8b9d6530a6fdrow1_col1\" class=\"data row1 col1\" >1.00</td>\n",
       "                        <td id=\"T_f9a10098_0732_11eb_a39c_8b9d6530a6fdrow1_col2\" class=\"data row1 col2\" >0.38</td>\n",
       "                        <td id=\"T_f9a10098_0732_11eb_a39c_8b9d6530a6fdrow1_col3\" class=\"data row1 col3\" >0.23</td>\n",
       "                        <td id=\"T_f9a10098_0732_11eb_a39c_8b9d6530a6fdrow1_col4\" class=\"data row1 col4\" >0.39</td>\n",
       "                        <td id=\"T_f9a10098_0732_11eb_a39c_8b9d6530a6fdrow1_col5\" class=\"data row1 col5\" >0.63</td>\n",
       "                        <td id=\"T_f9a10098_0732_11eb_a39c_8b9d6530a6fdrow1_col6\" class=\"data row1 col6\" >0.36</td>\n",
       "                        <td id=\"T_f9a10098_0732_11eb_a39c_8b9d6530a6fdrow1_col7\" class=\"data row1 col7\" >-0.37</td>\n",
       "            </tr>\n",
       "            <tr>\n",
       "                        <th id=\"T_f9a10098_0732_11eb_a39c_8b9d6530a6fdlevel0_row2\" class=\"row_heading level0 row2\" >GDP Healthcare %</th>\n",
       "                        <td id=\"T_f9a10098_0732_11eb_a39c_8b9d6530a6fdrow2_col0\" class=\"data row2 col0\" >0.08</td>\n",
       "                        <td id=\"T_f9a10098_0732_11eb_a39c_8b9d6530a6fdrow2_col1\" class=\"data row2 col1\" >0.38</td>\n",
       "                        <td id=\"T_f9a10098_0732_11eb_a39c_8b9d6530a6fdrow2_col2\" class=\"data row2 col2\" >1.00</td>\n",
       "                        <td id=\"T_f9a10098_0732_11eb_a39c_8b9d6530a6fdrow2_col3\" class=\"data row2 col3\" >0.31</td>\n",
       "                        <td id=\"T_f9a10098_0732_11eb_a39c_8b9d6530a6fdrow2_col4\" class=\"data row2 col4\" >0.49</td>\n",
       "                        <td id=\"T_f9a10098_0732_11eb_a39c_8b9d6530a6fdrow2_col5\" class=\"data row2 col5\" >0.35</td>\n",
       "                        <td id=\"T_f9a10098_0732_11eb_a39c_8b9d6530a6fdrow2_col6\" class=\"data row2 col6\" >-0.07</td>\n",
       "                        <td id=\"T_f9a10098_0732_11eb_a39c_8b9d6530a6fdrow2_col7\" class=\"data row2 col7\" >-0.21</td>\n",
       "            </tr>\n",
       "            <tr>\n",
       "                        <th id=\"T_f9a10098_0732_11eb_a39c_8b9d6530a6fdlevel0_row3\" class=\"row_heading level0 row3\" >GDP per capita</th>\n",
       "                        <td id=\"T_f9a10098_0732_11eb_a39c_8b9d6530a6fdrow3_col0\" class=\"data row3 col0\" >0.38</td>\n",
       "                        <td id=\"T_f9a10098_0732_11eb_a39c_8b9d6530a6fdrow3_col1\" class=\"data row3 col1\" >0.23</td>\n",
       "                        <td id=\"T_f9a10098_0732_11eb_a39c_8b9d6530a6fdrow3_col2\" class=\"data row3 col2\" >0.31</td>\n",
       "                        <td id=\"T_f9a10098_0732_11eb_a39c_8b9d6530a6fdrow3_col3\" class=\"data row3 col3\" >1.00</td>\n",
       "                        <td id=\"T_f9a10098_0732_11eb_a39c_8b9d6530a6fdrow3_col4\" class=\"data row3 col4\" >0.69</td>\n",
       "                        <td id=\"T_f9a10098_0732_11eb_a39c_8b9d6530a6fdrow3_col5\" class=\"data row3 col5\" >0.12</td>\n",
       "                        <td id=\"T_f9a10098_0732_11eb_a39c_8b9d6530a6fdrow3_col6\" class=\"data row3 col6\" >0.32</td>\n",
       "                        <td id=\"T_f9a10098_0732_11eb_a39c_8b9d6530a6fdrow3_col7\" class=\"data row3 col7\" >-0.62</td>\n",
       "            </tr>\n",
       "            <tr>\n",
       "                        <th id=\"T_f9a10098_0732_11eb_a39c_8b9d6530a6fdlevel0_row4\" class=\"row_heading level0 row4\" >Life expectancy</th>\n",
       "                        <td id=\"T_f9a10098_0732_11eb_a39c_8b9d6530a6fdrow4_col0\" class=\"data row4 col0\" >0.36</td>\n",
       "                        <td id=\"T_f9a10098_0732_11eb_a39c_8b9d6530a6fdrow4_col1\" class=\"data row4 col1\" >0.39</td>\n",
       "                        <td id=\"T_f9a10098_0732_11eb_a39c_8b9d6530a6fdrow4_col2\" class=\"data row4 col2\" >0.49</td>\n",
       "                        <td id=\"T_f9a10098_0732_11eb_a39c_8b9d6530a6fdrow4_col3\" class=\"data row4 col3\" >0.69</td>\n",
       "                        <td id=\"T_f9a10098_0732_11eb_a39c_8b9d6530a6fdrow4_col4\" class=\"data row4 col4\" >1.00</td>\n",
       "                        <td id=\"T_f9a10098_0732_11eb_a39c_8b9d6530a6fdrow4_col5\" class=\"data row4 col5\" >0.27</td>\n",
       "                        <td id=\"T_f9a10098_0732_11eb_a39c_8b9d6530a6fdrow4_col6\" class=\"data row4 col6\" >0.25</td>\n",
       "                        <td id=\"T_f9a10098_0732_11eb_a39c_8b9d6530a6fdrow4_col7\" class=\"data row4 col7\" >-0.63</td>\n",
       "            </tr>\n",
       "            <tr>\n",
       "                        <th id=\"T_f9a10098_0732_11eb_a39c_8b9d6530a6fdlevel0_row5\" class=\"row_heading level0 row5\" >Mortality %</th>\n",
       "                        <td id=\"T_f9a10098_0732_11eb_a39c_8b9d6530a6fdrow5_col0\" class=\"data row5 col0\" >-0.08</td>\n",
       "                        <td id=\"T_f9a10098_0732_11eb_a39c_8b9d6530a6fdrow5_col1\" class=\"data row5 col1\" >0.63</td>\n",
       "                        <td id=\"T_f9a10098_0732_11eb_a39c_8b9d6530a6fdrow5_col2\" class=\"data row5 col2\" >0.35</td>\n",
       "                        <td id=\"T_f9a10098_0732_11eb_a39c_8b9d6530a6fdrow5_col3\" class=\"data row5 col3\" >0.12</td>\n",
       "                        <td id=\"T_f9a10098_0732_11eb_a39c_8b9d6530a6fdrow5_col4\" class=\"data row5 col4\" >0.27</td>\n",
       "                        <td id=\"T_f9a10098_0732_11eb_a39c_8b9d6530a6fdrow5_col5\" class=\"data row5 col5\" >1.00</td>\n",
       "                        <td id=\"T_f9a10098_0732_11eb_a39c_8b9d6530a6fdrow5_col6\" class=\"data row5 col6\" >-0.18</td>\n",
       "                        <td id=\"T_f9a10098_0732_11eb_a39c_8b9d6530a6fdrow5_col7\" class=\"data row5 col7\" >-0.12</td>\n",
       "            </tr>\n",
       "            <tr>\n",
       "                        <th id=\"T_f9a10098_0732_11eb_a39c_8b9d6530a6fdlevel0_row6\" class=\"row_heading level0 row6\" >Recovered per mln</th>\n",
       "                        <td id=\"T_f9a10098_0732_11eb_a39c_8b9d6530a6fdrow6_col0\" class=\"data row6 col0\" >0.95</td>\n",
       "                        <td id=\"T_f9a10098_0732_11eb_a39c_8b9d6530a6fdrow6_col1\" class=\"data row6 col1\" >0.36</td>\n",
       "                        <td id=\"T_f9a10098_0732_11eb_a39c_8b9d6530a6fdrow6_col2\" class=\"data row6 col2\" >-0.07</td>\n",
       "                        <td id=\"T_f9a10098_0732_11eb_a39c_8b9d6530a6fdrow6_col3\" class=\"data row6 col3\" >0.32</td>\n",
       "                        <td id=\"T_f9a10098_0732_11eb_a39c_8b9d6530a6fdrow6_col4\" class=\"data row6 col4\" >0.25</td>\n",
       "                        <td id=\"T_f9a10098_0732_11eb_a39c_8b9d6530a6fdrow6_col5\" class=\"data row6 col5\" >-0.18</td>\n",
       "                        <td id=\"T_f9a10098_0732_11eb_a39c_8b9d6530a6fdrow6_col6\" class=\"data row6 col6\" >1.00</td>\n",
       "                        <td id=\"T_f9a10098_0732_11eb_a39c_8b9d6530a6fdrow6_col7\" class=\"data row6 col7\" >-0.39</td>\n",
       "            </tr>\n",
       "            <tr>\n",
       "                        <th id=\"T_f9a10098_0732_11eb_a39c_8b9d6530a6fdlevel0_row7\" class=\"row_heading level0 row7\" >Rural population %</th>\n",
       "                        <td id=\"T_f9a10098_0732_11eb_a39c_8b9d6530a6fdrow7_col0\" class=\"data row7 col0\" >-0.46</td>\n",
       "                        <td id=\"T_f9a10098_0732_11eb_a39c_8b9d6530a6fdrow7_col1\" class=\"data row7 col1\" >-0.37</td>\n",
       "                        <td id=\"T_f9a10098_0732_11eb_a39c_8b9d6530a6fdrow7_col2\" class=\"data row7 col2\" >-0.21</td>\n",
       "                        <td id=\"T_f9a10098_0732_11eb_a39c_8b9d6530a6fdrow7_col3\" class=\"data row7 col3\" >-0.62</td>\n",
       "                        <td id=\"T_f9a10098_0732_11eb_a39c_8b9d6530a6fdrow7_col4\" class=\"data row7 col4\" >-0.63</td>\n",
       "                        <td id=\"T_f9a10098_0732_11eb_a39c_8b9d6530a6fdrow7_col5\" class=\"data row7 col5\" >-0.12</td>\n",
       "                        <td id=\"T_f9a10098_0732_11eb_a39c_8b9d6530a6fdrow7_col6\" class=\"data row7 col6\" >-0.39</td>\n",
       "                        <td id=\"T_f9a10098_0732_11eb_a39c_8b9d6530a6fdrow7_col7\" class=\"data row7 col7\" >1.00</td>\n",
       "            </tr>\n",
       "    </tbody></table>"
      ],
      "text/plain": [
       "<pandas.io.formats.style.Styler at 0x7f379578c400>"
      ]
     },
     "metadata": {},
     "output_type": "display_data"
    }
   ],
   "source": [
    "cdv.show_corr_mat()"
   ]
  },
  {
   "cell_type": "markdown",
   "metadata": {},
   "source": [
    "# Mortality\n",
    "\n",
    "As a reminder note that `mortality = dead / confirmed`. Observe that the `Life expectancy` vs. `Mortality %` scatter plot has a few nasty outliers to right of the plot. One possible explanation is that people from the risk group are more prevalent in countries with higher `life expectancy`. In the scatter plots we do not find any nice linear relationships. Perhaps examining the data on a per continent level would yield more fruitfull results."
   ]
  },
  {
   "cell_type": "code",
   "execution_count": 6,
   "metadata": {
    "scrolled": false
   },
   "outputs": [
    {
     "data": {
      "image/png": "[encoded data removed]",
      "text/plain": [
       "<Figure size 360x360 with 1 Axes>"
      ]
     },
     "metadata": {
      "needs_background": "light"
     },
     "output_type": "display_data"
    }
   ],
   "source": [
    "cdv.plot_with_slope('Rural population %', 'Mortality %')"
   ]
  },
  {
   "cell_type": "code",
   "execution_count": 7,
   "metadata": {},
   "outputs": [
    {
     "data": {
      "image/png": "[encoded data removed]",
      "text/plain": [
       "<Figure size 360x360 with 1 Axes>"
      ]
     },
     "metadata": {
      "needs_background": "light"
     },
     "output_type": "display_data"
    }
   ],
   "source": [
    "cdv.plot_with_slope('Life expectancy', 'Mortality %')"
   ]
  },
  {
   "cell_type": "code",
   "execution_count": 8,
   "metadata": {},
   "outputs": [
    {
     "data": {
      "image/png": "[encoded data removed]",
      "text/plain": [
       "<Figure size 360x360 with 1 Axes>"
      ]
     },
     "metadata": {
      "needs_background": "light"
     },
     "output_type": "display_data"
    }
   ],
   "source": [
    "cdv.plot_with_slope('GDP Healthcare %', 'Mortality %')"
   ]
  },
  {
   "cell_type": "code",
   "execution_count": 9,
   "metadata": {},
   "outputs": [
    {
     "data": {
      "image/png": "[encoded data removed]",
      "text/plain": [
       "<Figure size 360x360 with 1 Axes>"
      ]
     },
     "metadata": {
      "needs_background": "light"
     },
     "output_type": "display_data"
    }
   ],
   "source": [
    "cdv.plot_with_slope('GDP per capita', 'Mortality %')"
   ]
  }
 ],
 "metadata": {
  "kernelspec": {
   "display_name": "Python 3",
   "language": "python",
   "name": "python3"
  },
  "language_info": {
   "codemirror_mode": {
    "name": "ipython",
    "version": 3
   },
   "file_extension": ".py",
   "mimetype": "text/x-python",
   "name": "python",
   "nbconvert_exporter": "python",
   "pygments_lexer": "ipython3",
   "version": "3.8.2"
  }
 },
 "nbformat": 4,
 "nbformat_minor": 2
}
