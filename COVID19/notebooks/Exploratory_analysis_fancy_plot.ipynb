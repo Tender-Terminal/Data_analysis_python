{
 "cells": [
  {
   "cell_type": "markdown",
   "metadata": {},
   "source": [
    "# Imports"
   ]
  },
  {
   "cell_type": "code",
   "execution_count": 1,
   "metadata": {},
   "outputs": [],
   "source": [
    "import sys\n",
    "import os\n",
    "import numpy as np\n",
    "import matplotlib as mpl\n",
    "import matplotlib.pyplot as plt"
   ]
  },
  {
   "cell_type": "code",
   "execution_count": 2,
   "metadata": {},
   "outputs": [],
   "source": [
    "project_path = os.path.abspath(os.path.join('..'))\n",
    "\n",
    "if project_path not in sys.path:\n",
    "    sys.path.append(f'{project_path}/src/visualizations/')\n",
    "    \n",
    "from covid_data_viz import CovidDataViz    "
   ]
  },
  {
   "cell_type": "markdown",
   "metadata": {},
   "source": [
    "# Setup"
   ]
  },
  {
   "cell_type": "code",
   "execution_count": 3,
   "metadata": {},
   "outputs": [],
   "source": [
    "mpl.rcParams['figure.figsize'] = (9, 5)"
   ]
  },
  {
   "cell_type": "markdown",
   "metadata": {},
   "source": [
    "# Goal\n",
    "My goal is to visualize various aspect of the `COVID-19` pandemic."
   ]
  },
  {
   "cell_type": "markdown",
   "metadata": {},
   "source": [
    "# Data sources\n",
    "\n",
    "In this project I use data from the following sources:\n",
    "- https://github.com/CSSEGISandData/COVID-19 - JHU CSSE COVID-19 Data.\n",
    "- https://datahub.io/JohnSnowLabs/country-and-continent-codes-list - country codes and continents."
   ]
  },
  {
   "cell_type": "markdown",
   "metadata": {},
   "source": [
    "# Data loading"
   ]
  },
  {
   "cell_type": "code",
   "execution_count": 4,
   "metadata": {},
   "outputs": [],
   "source": [
    "cdv = CovidDataViz()"
   ]
  },
  {
   "cell_type": "markdown",
   "metadata": {},
   "source": [
    "# Fancy plot\n",
    "\n",
    "Visual for repo readme."
   ]
  },
  {
   "cell_type": "code",
   "execution_count": 5,
   "metadata": {},
   "outputs": [
    {
     "data": {
      "image/png": "[encoded data removed]",
      "text/plain": [
       "<Figure size 576x288 with 2 Axes>"
      ]
     },
     "metadata": {
      "needs_background": "light"
     },
     "output_type": "display_data"
    }
   ],
   "source": [
    "countries = ['Germany', \n",
    "             'France', \n",
    "             'Italy', \n",
    "             'Spain', \n",
    "             'United Kingdom', \n",
    "             'Russia', \n",
    "             'India', \n",
    "             'Brazil',\n",
    "             'US', \n",
    "             'Poland', \n",
    "             'Mexico']\n",
    "\n",
    "width = 1600\n",
    "height = width / 2\n",
    "dpi = 200\n",
    "period = 7\n",
    "step = 30\n",
    "label_size = 12\n",
    "n_clabels = 6\n",
    "\n",
    "countries = sorted(countries)\n",
    "\n",
    "plot_df = cdv.data['Confirmed chg'][countries]\n",
    "plot_df = plot_df.rename(columns={'United Kingdom': 'UK'})\n",
    "countries = plot_df.columns.to_list()\n",
    "plot_df = plot_df.rolling(period)\n",
    "plot_df = plot_df.mean()\n",
    "plot_df = plot_df.dropna()\n",
    "plot_df = plot_df.to_numpy()\n",
    "plot_df = plot_df.astype(float)\n",
    "plot_df = plot_df.transpose()\n",
    "plot_df = np.sqrt(plot_df)\n",
    "\n",
    "xticks = range(plot_df.shape[1])[::step]\n",
    "xlabels = list(cdv.data['Confirmed chg']['Date'])[period:]\n",
    "xlabels = [x.strftime(format='%Y-%m') for x in xlabels]\n",
    "# xlabels = [x.date() for x in xlabels]\n",
    "xlabels = xlabels[::step]\n",
    "\n",
    "yticks = range(len(countries))\n",
    "ylabels = countries\n",
    "\n",
    "cticks = np.round(np.linspace(0, np.max(plot_df), 6), -1)\n",
    "cticks = cticks.astype(np.int)\n",
    "clabels = np.power(cticks, 2)\n",
    "cticks = sorted(set(cticks))\n",
    "clabels = np.power(cticks, 2)\n",
    "clabels = [int((round(x, -3))/1000) for x in clabels]\n",
    "clabels = [str(x)+'k' for x in clabels]\n",
    "# clabels = list(map(str, clabels))\n",
    "\n",
    "plt.figure(figsize=(width / dpi, height / dpi))\n",
    "plt.imshow(plot_df, aspect='auto', interpolation='nearest')\n",
    "plt.set_cmap('hot')\n",
    "\n",
    "plt.yticks(ticks=yticks,\n",
    "           labels=ylabels, \n",
    "           fontsize=label_size, \n",
    "           verticalalignment='center')\n",
    "\n",
    "plt.xticks(ticks=xticks,\n",
    "           labels=xlabels,\n",
    "           rotation=45, \n",
    "           fontsize=label_size, \n",
    "           horizontalalignment='center')\n",
    "\n",
    "cbar = plt.colorbar()\n",
    "cbar.set_ticks(cticks)\n",
    "cbar.set_ticklabels(clabels)\n",
    "cbar.ax.tick_params(labelsize=label_size) \n",
    "\n",
    "plt.title('New COVID-19 cases', fontsize=20)\n",
    "\n",
    "plt.tight_layout()\n",
    "plt.savefig('../img/covid_tiles.png')\n",
    "\n",
    "plt.show()"
   ]
  }
 ],
 "metadata": {
  "kernelspec": {
   "display_name": "Python 3",
   "language": "python",
   "name": "python3"
  },
  "language_info": {
   "codemirror_mode": {
    "name": "ipython",
    "version": 3
   },
   "file_extension": ".py",
   "mimetype": "text/x-python",
   "name": "python",
   "nbconvert_exporter": "python",
   "pygments_lexer": "ipython3",
   "version": "3.8.2"
  }
 },
 "nbformat": 4,
 "nbformat_minor": 2
}
